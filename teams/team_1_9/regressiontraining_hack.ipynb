{
 "cells": [
  {
   "cell_type": "code",
   "execution_count": 2,
   "id": "51e0a4cb-84b6-4e7c-a150-480307d88663",
   "metadata": {},
   "outputs": [],
   "source": [
    "import pandas as pd\n",
    "import seaborn as sns\n",
    "import statsmodels.api as sm"
   ]
  },
  {
   "cell_type": "code",
   "execution_count": 3,
   "id": "4cf04e77-54fa-4494-a3c9-8a2c40c67b6b",
   "metadata": {},
   "outputs": [],
   "source": [
    "train = pd.read_csv('/home/jupyter-samuel/train_mrkr.csv')\n",
    "test = pd.read_csv('/home/jupyter-samuel/test_mrkr.csv')\n",
    "val = pd.read_csv('/home/jupyter-samuel/val_mrkr.csv')"
   ]
  },
  {
   "cell_type": "code",
   "execution_count": 4,
   "id": "4474f2bb-571d-436f-add8-f1baa73e46f1",
   "metadata": {},
   "outputs": [],
   "source": [
    "# test['fold'].unique()\n",
    "# test['merge_column'].unique()\n",
    "test = test.assign(dataset = 'test')\n",
    "val = val.assign(dataset = 'val')\n",
    "train = train.assign(dataset = 'train')"
   ]
  },
  {
   "cell_type": "code",
   "execution_count": 5,
   "id": "aabcf113-c232-4974-99f3-6e5e6a0054a2",
   "metadata": {},
   "outputs": [],
   "source": [
    "stacked_df = pd.concat([train, val, test], ignore_index=True)"
   ]
  },
  {
   "cell_type": "code",
   "execution_count": 6,
   "id": "fb945fde-2966-406a-8c2d-8e2a783f7aea",
   "metadata": {},
   "outputs": [
    {
     "data": {
      "text/plain": [
       "dataset\n",
       "train    9680\n",
       "test     1168\n",
       "val      1100\n",
       "Name: count, dtype: int64"
      ]
     },
     "execution_count": 6,
     "metadata": {},
     "output_type": "execute_result"
    }
   ],
   "source": [
    "stacked_df['dataset'].value_counts()"
   ]
  },
  {
   "cell_type": "code",
   "execution_count": 7,
   "id": "1fce3fe2-388a-4d33-8e74-1c421d342457",
   "metadata": {},
   "outputs": [
    {
     "data": {
      "text/plain": [
       "empi_anon                       2845\n",
       "image                           4161\n",
       "laterality                         2\n",
       "cropped_png_path                8322\n",
       "StudyDate_anon                  1852\n",
       "knee_pain_binary_threshold_4       2\n",
       "knee_pain_binary_threshold_7       2\n",
       "hardware                           1\n",
       "weightbearing                      1\n",
       "horizontal_flip                    2\n",
       "lateral_JSN                        4\n",
       "medial_JSN                         4\n",
       "KLG                                5\n",
       "pain_score                        11\n",
       "DOB_anon                        2510\n",
       "GENDER                             2\n",
       "RACE                               7\n",
       "ETHNICITY                          5\n",
       "dob                             2510\n",
       "age                               35\n",
       "merge_column                     113\n",
       "fold                              10\n",
       "dataset                            3\n",
       "dtype: int64"
      ]
     },
     "execution_count": 7,
     "metadata": {},
     "output_type": "execute_result"
    }
   ],
   "source": [
    "stacked_df.nunique()"
   ]
  },
  {
   "cell_type": "code",
   "execution_count": 8,
   "id": "c102dfd9-83f5-4958-a7b4-6e80d3a96003",
   "metadata": {},
   "outputs": [
    {
     "name": "stdout",
     "output_type": "stream",
     "text": [
      "knee_pain_binary_threshold_4\n",
      "1    7902\n",
      "0    4046\n",
      "Name: count, dtype: int64\n"
     ]
    },
    {
     "data": {
      "text/plain": [
       "knee_pain_binary_threshold_7\n",
       "0    7245\n",
       "1    4703\n",
       "Name: count, dtype: int64"
      ]
     },
     "execution_count": 8,
     "metadata": {},
     "output_type": "execute_result"
    }
   ],
   "source": [
    "print(stacked_df['knee_pain_binary_threshold_4'].value_counts())\n",
    "stacked_df['knee_pain_binary_threshold_7'].value_counts()"
   ]
  },
  {
   "cell_type": "code",
   "execution_count": 9,
   "id": "5405850e-1191-4435-bc80-22201a53937f",
   "metadata": {},
   "outputs": [
    {
     "data": {
      "text/plain": [
       "lateral_JSN\n",
       "0    10527\n",
       "1      658\n",
       "2      535\n",
       "3      228\n",
       "Name: count, dtype: int64"
      ]
     },
     "execution_count": 9,
     "metadata": {},
     "output_type": "execute_result"
    }
   ],
   "source": [
    "stacked_df['lateral_JSN'].value_counts()"
   ]
  },
  {
   "cell_type": "code",
   "execution_count": 10,
   "id": "a54b0551-12e5-4e92-a61f-3d7d2f7aa7bf",
   "metadata": {},
   "outputs": [
    {
     "data": {
      "text/plain": [
       "lateral_JSN\n",
       "0    10527\n",
       "1      658\n",
       "2      535\n",
       "3      228\n",
       "Name: count, dtype: int64"
      ]
     },
     "execution_count": 10,
     "metadata": {},
     "output_type": "execute_result"
    }
   ],
   "source": [
    "stacked_df['lateral_JSN'].value_counts()"
   ]
  },
  {
   "cell_type": "code",
   "execution_count": 11,
   "id": "718644f0-286c-4054-9173-bf1bcd645d42",
   "metadata": {},
   "outputs": [
    {
     "data": {
      "text/plain": [
       "<Axes: >"
      ]
     },
     "execution_count": 11,
     "metadata": {},
     "output_type": "execute_result"
    },
    {
     "data": {
      "image/png": "[encoded data removed]",
      "text/plain": [
       "<Figure size 640x480 with 1 Axes>"
      ]
     },
     "metadata": {},
     "output_type": "display_data"
    }
   ],
   "source": [
    "stacked_df['age'].hist()"
   ]
  },
  {
   "cell_type": "code",
   "execution_count": 12,
   "id": "d9a0251d-e03b-4983-8b71-0e9180336e8b",
   "metadata": {},
   "outputs": [
    {
     "data": {
      "text/plain": [
       "<Axes: xlabel='KLG', ylabel='count'>"
      ]
     },
     "execution_count": 12,
     "metadata": {},
     "output_type": "execute_result"
    },
    {
     "data": {
      "image/png": "[encoded data removed]",
      "text/plain": [
       "<Figure size 640x480 with 1 Axes>"
      ]
     },
     "metadata": {},
     "output_type": "display_data"
    }
   ],
   "source": [
    "# stacked_df['KLG'].hist()\n",
    "sns.countplot(data = stacked_df, x = 'KLG', color='lightblue')"
   ]
  },
  {
   "cell_type": "code",
   "execution_count": 13,
   "id": "dacb3981-6afb-4b15-841f-3e87f49e5e49",
   "metadata": {
    "scrolled": true
   },
   "outputs": [
    {
     "data": {
      "text/plain": [
       "<Axes: xlabel='pain_score', ylabel='count'>"
      ]
     },
     "execution_count": 13,
     "metadata": {},
     "output_type": "execute_result"
    },
    {
     "data": {
      "image/png": "[encoded data removed]",
      "text/plain": [
       "<Figure size 640x480 with 1 Axes>"
      ]
     },
     "metadata": {},
     "output_type": "display_data"
    }
   ],
   "source": [
    "sns.countplot(data = stacked_df, x = 'pain_score', hue = 'GENDER')"
   ]
  },
  {
   "cell_type": "code",
   "execution_count": 14,
   "id": "5f3428e8-8062-4b4c-9cfb-fe70191ab11f",
   "metadata": {},
   "outputs": [],
   "source": [
    "stacked_bw = stacked_df.isin(['African American  or Black','Caucasian or White'])"
   ]
  },
  {
   "cell_type": "code",
   "execution_count": 15,
   "id": "3030d9a2-88c3-4ac1-9f3c-f4e0c5d5cadd",
   "metadata": {},
   "outputs": [],
   "source": [
    "# sns.kdeplot(data=stacked_bw, x='pain_score')"
   ]
  },
  {
   "cell_type": "code",
   "execution_count": 16,
   "id": "451fe826-774c-4049-96b0-11df01314817",
   "metadata": {},
   "outputs": [
    {
     "data": {
      "text/plain": [
       "dataset\n",
       "train    9680\n",
       "test     1168\n",
       "val      1100\n",
       "Name: count, dtype: int64"
      ]
     },
     "execution_count": 16,
     "metadata": {},
     "output_type": "execute_result"
    }
   ],
   "source": [
    "stacked_df['RACE'].value_counts()\n",
    "stacked_df['KLG'].value_counts()\n",
    "stacked_df['dataset'].value_counts()"
   ]
  },
  {
   "cell_type": "code",
   "execution_count": null,
   "id": "69ea9148-c04f-4cc1-a1df-0064a5ca9a84",
   "metadata": {},
   "outputs": [],
   "source": []
  },
  {
   "cell_type": "code",
   "execution_count": 17,
   "id": "729b88a2-e452-43f5-824e-119ac28dcdcc",
   "metadata": {},
   "outputs": [],
   "source": [
    "trainval = stacked_df[(stacked_df.dataset != 'test')]"
   ]
  },
  {
   "cell_type": "code",
   "execution_count": null,
   "id": "1d33cb3a-6b71-4f21-a00c-0cf8f2089ac9",
   "metadata": {},
   "outputs": [],
   "source": []
  },
  {
   "cell_type": "code",
   "execution_count": 18,
   "id": "f35a9b7f-4630-4449-b8bc-4d11d20767e7",
   "metadata": {},
   "outputs": [],
   "source": [
    "dummy_klg = pd.get_dummies(trainval['KLG'])\n",
    "dummy_race = pd.get_dummies(trainval['RACE'])\n",
    "dummy_klg.columns = ['klg_0', 'klg_1', 'klg_2', 'klg_3', 'klg_4']\n",
    "# dummy_klg = dummy_klg.rename(columns={'0': 'klg_0', '1': 'klg1', '2': 'klg2', '3': 'klg3', '4': 'klg4'})"
   ]
  },
  {
   "cell_type": "code",
   "execution_count": 21,
   "id": "46d15c36-2b4d-4cd0-81e3-e4aac1977429",
   "metadata": {},
   "outputs": [],
   "source": [
    "x_dummy_klg = dummy_klg.drop(['klg_0'], axis=1)\n",
    "\n",
    "x_dummy_klg = sm.add_constant(x_dummy_klg)\n",
    "x_dummy_klg = x_dummy_klg.astype(int)"
   ]
  },
  {
   "cell_type": "code",
   "execution_count": 20,
   "id": "26d6cf71-ebfe-470e-925a-07554b295936",
   "metadata": {},
   "outputs": [
    {
     "data": {
      "text/html": [
       "<div>\n",
       "<style scoped>\n",
       "    .dataframe tbody tr th:only-of-type {\n",
       "        vertical-align: middle;\n",
       "    }\n",
       "\n",
       "    .dataframe tbody tr th {\n",
       "        vertical-align: top;\n",
       "    }\n",
       "\n",
       "    .dataframe thead th {\n",
       "        text-align: right;\n",
       "    }\n",
       "</style>\n",
       "<table border=\"1\" class=\"dataframe\">\n",
       "  <thead>\n",
       "    <tr style=\"text-align: right;\">\n",
       "      <th></th>\n",
       "      <th>African American  or Black</th>\n",
       "      <th>American Indian or Alaskan Native</th>\n",
       "      <th>Asian</th>\n",
       "      <th>Multiple</th>\n",
       "      <th>Unknown, Unavailable or Unreported</th>\n",
       "      <th>klg_1</th>\n",
       "      <th>klg_2</th>\n",
       "      <th>klg_3</th>\n",
       "      <th>klg_4</th>\n",
       "    </tr>\n",
       "  </thead>\n",
       "  <tbody>\n",
       "    <tr>\n",
       "      <th>0</th>\n",
       "      <td>True</td>\n",
       "      <td>False</td>\n",
       "      <td>False</td>\n",
       "      <td>False</td>\n",
       "      <td>False</td>\n",
       "      <td>False</td>\n",
       "      <td>False</td>\n",
       "      <td>True</td>\n",
       "      <td>False</td>\n",
       "    </tr>\n",
       "    <tr>\n",
       "      <th>1</th>\n",
       "      <td>False</td>\n",
       "      <td>False</td>\n",
       "      <td>False</td>\n",
       "      <td>False</td>\n",
       "      <td>False</td>\n",
       "      <td>False</td>\n",
       "      <td>False</td>\n",
       "      <td>False</td>\n",
       "      <td>False</td>\n",
       "    </tr>\n",
       "    <tr>\n",
       "      <th>2</th>\n",
       "      <td>False</td>\n",
       "      <td>False</td>\n",
       "      <td>False</td>\n",
       "      <td>False</td>\n",
       "      <td>False</td>\n",
       "      <td>False</td>\n",
       "      <td>False</td>\n",
       "      <td>True</td>\n",
       "      <td>False</td>\n",
       "    </tr>\n",
       "    <tr>\n",
       "      <th>3</th>\n",
       "      <td>True</td>\n",
       "      <td>False</td>\n",
       "      <td>False</td>\n",
       "      <td>False</td>\n",
       "      <td>False</td>\n",
       "      <td>False</td>\n",
       "      <td>True</td>\n",
       "      <td>False</td>\n",
       "      <td>False</td>\n",
       "    </tr>\n",
       "    <tr>\n",
       "      <th>4</th>\n",
       "      <td>False</td>\n",
       "      <td>False</td>\n",
       "      <td>False</td>\n",
       "      <td>False</td>\n",
       "      <td>False</td>\n",
       "      <td>False</td>\n",
       "      <td>False</td>\n",
       "      <td>True</td>\n",
       "      <td>False</td>\n",
       "    </tr>\n",
       "    <tr>\n",
       "      <th>...</th>\n",
       "      <td>...</td>\n",
       "      <td>...</td>\n",
       "      <td>...</td>\n",
       "      <td>...</td>\n",
       "      <td>...</td>\n",
       "      <td>...</td>\n",
       "      <td>...</td>\n",
       "      <td>...</td>\n",
       "      <td>...</td>\n",
       "    </tr>\n",
       "    <tr>\n",
       "      <th>10775</th>\n",
       "      <td>False</td>\n",
       "      <td>False</td>\n",
       "      <td>True</td>\n",
       "      <td>False</td>\n",
       "      <td>False</td>\n",
       "      <td>False</td>\n",
       "      <td>False</td>\n",
       "      <td>False</td>\n",
       "      <td>False</td>\n",
       "    </tr>\n",
       "    <tr>\n",
       "      <th>10776</th>\n",
       "      <td>False</td>\n",
       "      <td>False</td>\n",
       "      <td>True</td>\n",
       "      <td>False</td>\n",
       "      <td>False</td>\n",
       "      <td>False</td>\n",
       "      <td>False</td>\n",
       "      <td>False</td>\n",
       "      <td>False</td>\n",
       "    </tr>\n",
       "    <tr>\n",
       "      <th>10777</th>\n",
       "      <td>False</td>\n",
       "      <td>False</td>\n",
       "      <td>False</td>\n",
       "      <td>False</td>\n",
       "      <td>False</td>\n",
       "      <td>False</td>\n",
       "      <td>False</td>\n",
       "      <td>False</td>\n",
       "      <td>False</td>\n",
       "    </tr>\n",
       "    <tr>\n",
       "      <th>10778</th>\n",
       "      <td>False</td>\n",
       "      <td>False</td>\n",
       "      <td>False</td>\n",
       "      <td>False</td>\n",
       "      <td>False</td>\n",
       "      <td>False</td>\n",
       "      <td>False</td>\n",
       "      <td>False</td>\n",
       "      <td>False</td>\n",
       "    </tr>\n",
       "    <tr>\n",
       "      <th>10779</th>\n",
       "      <td>True</td>\n",
       "      <td>False</td>\n",
       "      <td>False</td>\n",
       "      <td>False</td>\n",
       "      <td>False</td>\n",
       "      <td>False</td>\n",
       "      <td>False</td>\n",
       "      <td>False</td>\n",
       "      <td>False</td>\n",
       "    </tr>\n",
       "  </tbody>\n",
       "</table>\n",
       "<p>10780 rows × 9 columns</p>\n",
       "</div>"
      ],
      "text/plain": [
       "       African American  or Black  American Indian or Alaskan Native  Asian  \\\n",
       "0                            True                              False  False   \n",
       "1                           False                              False  False   \n",
       "2                           False                              False  False   \n",
       "3                            True                              False  False   \n",
       "4                           False                              False  False   \n",
       "...                           ...                                ...    ...   \n",
       "10775                       False                              False   True   \n",
       "10776                       False                              False   True   \n",
       "10777                       False                              False  False   \n",
       "10778                       False                              False  False   \n",
       "10779                        True                              False  False   \n",
       "\n",
       "       Multiple  Unknown, Unavailable or Unreported  klg_1  klg_2  klg_3  \\\n",
       "0         False                               False  False  False   True   \n",
       "1         False                               False  False  False  False   \n",
       "2         False                               False  False  False   True   \n",
       "3         False                               False  False   True  False   \n",
       "4         False                               False  False  False   True   \n",
       "...         ...                                 ...    ...    ...    ...   \n",
       "10775     False                               False  False  False  False   \n",
       "10776     False                               False  False  False  False   \n",
       "10777     False                               False  False  False  False   \n",
       "10778     False                               False  False  False  False   \n",
       "10779     False                               False  False  False  False   \n",
       "\n",
       "       klg_4  \n",
       "0      False  \n",
       "1      False  \n",
       "2      False  \n",
       "3      False  \n",
       "4      False  \n",
       "...      ...  \n",
       "10775  False  \n",
       "10776  False  \n",
       "10777  False  \n",
       "10778  False  \n",
       "10779  False  \n",
       "\n",
       "[10780 rows x 9 columns]"
      ]
     },
     "execution_count": 20,
     "metadata": {},
     "output_type": "execute_result"
    }
   ],
   "source": [
    "# print(dummy_race)\n",
    "# print(dummy_klg)\n",
    "x_dummy = pd.concat([dummy_race, dummy_klg], axis=1)\n",
    "x_dummy = x_dummy.drop(['Caucasian or White', 'klg_0', 'Native Hawaiian or Other Pacific Islander'], axis=1)\n",
    "x_dummy"
   ]
  },
  {
   "cell_type": "code",
   "execution_count": 81,
   "id": "48f47480-0658-4c34-9b04-c14662190ab2",
   "metadata": {},
   "outputs": [],
   "source": [
    "y_4 = trainval['knee_pain_binary_threshold_4']\n",
    "y_7 = trainval['knee_pain_binary_threshold_7']"
   ]
  },
  {
   "cell_type": "code",
   "execution_count": 82,
   "id": "633f0f6c-f384-4784-8b03-78cfe1215b92",
   "metadata": {},
   "outputs": [
    {
     "name": "stdout",
     "output_type": "stream",
     "text": [
      "Optimization terminated successfully.\n",
      "         Current function value: 0.609313\n",
      "         Iterations 6\n"
     ]
    },
    {
     "data": {
      "text/html": [
       "<table class=\"simpletable\">\n",
       "<caption>Logit Regression Results</caption>\n",
       "<tr>\n",
       "  <th>Dep. Variable:</th>   <td>knee_pain_binary_threshold_4</td> <th>  No. Observations:  </th>   <td> 10780</td>  \n",
       "</tr>\n",
       "<tr>\n",
       "  <th>Model:</th>                       <td>Logit</td>            <th>  Df Residuals:      </th>   <td> 10770</td>  \n",
       "</tr>\n",
       "<tr>\n",
       "  <th>Method:</th>                       <td>MLE</td>             <th>  Df Model:          </th>   <td>     9</td>  \n",
       "</tr>\n",
       "<tr>\n",
       "  <th>Date:</th>                  <td>Sun, 20 Aug 2023</td>       <th>  Pseudo R-squ.:     </th>   <td>0.04547</td> \n",
       "</tr>\n",
       "<tr>\n",
       "  <th>Time:</th>                      <td>17:32:24</td>           <th>  Log-Likelihood:    </th>  <td> -6568.4</td> \n",
       "</tr>\n",
       "<tr>\n",
       "  <th>converged:</th>                   <td>True</td>             <th>  LL-Null:           </th>  <td> -6881.3</td> \n",
       "</tr>\n",
       "<tr>\n",
       "  <th>Covariance Type:</th>           <td>nonrobust</td>          <th>  LLR p-value:       </th> <td>5.905e-129</td>\n",
       "</tr>\n",
       "</table>\n",
       "<table class=\"simpletable\">\n",
       "<tr>\n",
       "                   <td></td>                     <th>coef</th>     <th>std err</th>      <th>z</th>      <th>P>|z|</th>  <th>[0.025</th>    <th>0.975]</th>  \n",
       "</tr>\n",
       "<tr>\n",
       "  <th>const</th>                              <td>   -0.2624</td> <td>    0.056</td> <td>   -4.665</td> <td> 0.000</td> <td>   -0.373</td> <td>   -0.152</td>\n",
       "</tr>\n",
       "<tr>\n",
       "  <th>African American  or Black</th>         <td>    0.7198</td> <td>    0.044</td> <td>   16.253</td> <td> 0.000</td> <td>    0.633</td> <td>    0.807</td>\n",
       "</tr>\n",
       "<tr>\n",
       "  <th>American Indian or Alaskan Native</th>  <td>    1.6486</td> <td>    1.099</td> <td>    1.500</td> <td> 0.134</td> <td>   -0.505</td> <td>    3.802</td>\n",
       "</tr>\n",
       "<tr>\n",
       "  <th>Asian</th>                              <td>    0.7779</td> <td>    0.113</td> <td>    6.865</td> <td> 0.000</td> <td>    0.556</td> <td>    1.000</td>\n",
       "</tr>\n",
       "<tr>\n",
       "  <th>Multiple</th>                           <td>    0.5520</td> <td>    0.266</td> <td>    2.077</td> <td> 0.038</td> <td>    0.031</td> <td>    1.073</td>\n",
       "</tr>\n",
       "<tr>\n",
       "  <th>Unknown, Unavailable or Unreported</th> <td>    0.4415</td> <td>    0.106</td> <td>    4.181</td> <td> 0.000</td> <td>    0.235</td> <td>    0.648</td>\n",
       "</tr>\n",
       "<tr>\n",
       "  <th>klg_1</th>                              <td>    0.0811</td> <td>    0.100</td> <td>    0.808</td> <td> 0.419</td> <td>   -0.116</td> <td>    0.278</td>\n",
       "</tr>\n",
       "<tr>\n",
       "  <th>klg_2</th>                              <td>    0.4146</td> <td>    0.061</td> <td>    6.771</td> <td> 0.000</td> <td>    0.295</td> <td>    0.535</td>\n",
       "</tr>\n",
       "<tr>\n",
       "  <th>klg_3</th>                              <td>    0.8445</td> <td>    0.064</td> <td>   13.141</td> <td> 0.000</td> <td>    0.719</td> <td>    0.970</td>\n",
       "</tr>\n",
       "<tr>\n",
       "  <th>klg_4</th>                              <td>    1.3136</td> <td>    0.083</td> <td>   15.871</td> <td> 0.000</td> <td>    1.151</td> <td>    1.476</td>\n",
       "</tr>\n",
       "</table>"
      ],
      "text/latex": [
       "\\begin{center}\n",
       "\\begin{tabular}{lclc}\n",
       "\\toprule\n",
       "\\textbf{Dep. Variable:}                     & knee\\_pain\\_binary\\_threshold\\_4 & \\textbf{  No. Observations:  } &    10780    \\\\\n",
       "\\textbf{Model:}                             &              Logit               & \\textbf{  Df Residuals:      } &    10770    \\\\\n",
       "\\textbf{Method:}                            &               MLE                & \\textbf{  Df Model:          } &        9    \\\\\n",
       "\\textbf{Date:}                              &         Sun, 20 Aug 2023         & \\textbf{  Pseudo R-squ.:     } &  0.04547    \\\\\n",
       "\\textbf{Time:}                              &             17:32:24             & \\textbf{  Log-Likelihood:    } &   -6568.4   \\\\\n",
       "\\textbf{converged:}                         &               True               & \\textbf{  LL-Null:           } &   -6881.3   \\\\\n",
       "\\textbf{Covariance Type:}                   &            nonrobust             & \\textbf{  LLR p-value:       } & 5.905e-129  \\\\\n",
       "\\bottomrule\n",
       "\\end{tabular}\n",
       "\\begin{tabular}{lcccccc}\n",
       "                                            & \\textbf{coef} & \\textbf{std err} & \\textbf{z} & \\textbf{P$> |$z$|$} & \\textbf{[0.025} & \\textbf{0.975]}  \\\\\n",
       "\\midrule\n",
       "\\textbf{const}                              &      -0.2624  &        0.056     &    -4.665  &         0.000        &       -0.373    &       -0.152     \\\\\n",
       "\\textbf{African American  or Black}         &       0.7198  &        0.044     &    16.253  &         0.000        &        0.633    &        0.807     \\\\\n",
       "\\textbf{American Indian or Alaskan Native}  &       1.6486  &        1.099     &     1.500  &         0.134        &       -0.505    &        3.802     \\\\\n",
       "\\textbf{Asian}                              &       0.7779  &        0.113     &     6.865  &         0.000        &        0.556    &        1.000     \\\\\n",
       "\\textbf{Multiple}                           &       0.5520  &        0.266     &     2.077  &         0.038        &        0.031    &        1.073     \\\\\n",
       "\\textbf{Unknown, Unavailable or Unreported} &       0.4415  &        0.106     &     4.181  &         0.000        &        0.235    &        0.648     \\\\\n",
       "\\textbf{klg\\_1}                             &       0.0811  &        0.100     &     0.808  &         0.419        &       -0.116    &        0.278     \\\\\n",
       "\\textbf{klg\\_2}                             &       0.4146  &        0.061     &     6.771  &         0.000        &        0.295    &        0.535     \\\\\n",
       "\\textbf{klg\\_3}                             &       0.8445  &        0.064     &    13.141  &         0.000        &        0.719    &        0.970     \\\\\n",
       "\\textbf{klg\\_4}                             &       1.3136  &        0.083     &    15.871  &         0.000        &        1.151    &        1.476     \\\\\n",
       "\\bottomrule\n",
       "\\end{tabular}\n",
       "%\\caption{Logit Regression Results}\n",
       "\\end{center}"
      ],
      "text/plain": [
       "<class 'statsmodels.iolib.summary.Summary'>\n",
       "\"\"\"\n",
       "                                Logit Regression Results                                \n",
       "========================================================================================\n",
       "Dep. Variable:     knee_pain_binary_threshold_4   No. Observations:                10780\n",
       "Model:                                    Logit   Df Residuals:                    10770\n",
       "Method:                                     MLE   Df Model:                            9\n",
       "Date:                          Sun, 20 Aug 2023   Pseudo R-squ.:                 0.04547\n",
       "Time:                                  17:32:24   Log-Likelihood:                -6568.4\n",
       "converged:                                 True   LL-Null:                       -6881.3\n",
       "Covariance Type:                      nonrobust   LLR p-value:                5.905e-129\n",
       "======================================================================================================\n",
       "                                         coef    std err          z      P>|z|      [0.025      0.975]\n",
       "------------------------------------------------------------------------------------------------------\n",
       "const                                 -0.2624      0.056     -4.665      0.000      -0.373      -0.152\n",
       "African American  or Black             0.7198      0.044     16.253      0.000       0.633       0.807\n",
       "American Indian or Alaskan Native      1.6486      1.099      1.500      0.134      -0.505       3.802\n",
       "Asian                                  0.7779      0.113      6.865      0.000       0.556       1.000\n",
       "Multiple                               0.5520      0.266      2.077      0.038       0.031       1.073\n",
       "Unknown, Unavailable or Unreported     0.4415      0.106      4.181      0.000       0.235       0.648\n",
       "klg_1                                  0.0811      0.100      0.808      0.419      -0.116       0.278\n",
       "klg_2                                  0.4146      0.061      6.771      0.000       0.295       0.535\n",
       "klg_3                                  0.8445      0.064     13.141      0.000       0.719       0.970\n",
       "klg_4                                  1.3136      0.083     15.871      0.000       1.151       1.476\n",
       "======================================================================================================\n",
       "\"\"\""
      ]
     },
     "execution_count": 82,
     "metadata": {},
     "output_type": "execute_result"
    }
   ],
   "source": [
    "import statsmodels.api as sm\n",
    "\n",
    "x = sm.add_constant(x_dummy)\n",
    "x = x.astype(int)\n",
    "\n",
    "model_4 = sm.Logit(y_4, x).fit()\n",
    "model_4.summary()\n"
   ]
  },
  {
   "cell_type": "code",
   "execution_count": 83,
   "id": "9e93ffed-330e-4a62-bdda-3bb34f5659b9",
   "metadata": {},
   "outputs": [],
   "source": [
    "\n",
    "test_dummy_klg = pd.get_dummies(test['KLG'])\n",
    "test_dummy_race = pd.get_dummies(test['RACE'])\n",
    "test_dummy_klg.columns = ['klg_0', 'klg_1', 'klg_2', 'klg_3', 'klg_4']\n",
    "\n",
    "test_x_dummy = pd.concat([test_dummy_race, test_dummy_klg], axis=1)\n",
    "test_x_dummy = test_x_dummy.drop(['Caucasian or White','klg_0'], axis=1)\n",
    "test_x_dummy \n",
    "\n",
    "test_y_4 = test['knee_pain_binary_threshold_4']\n",
    "test_y_7 = test['knee_pain_binary_threshold_7']"
   ]
  },
  {
   "cell_type": "code",
   "execution_count": 88,
   "id": "b94e66ab-8a6f-41a2-abe8-7ecb7f7abe3d",
   "metadata": {},
   "outputs": [],
   "source": [
    "test_x_dummy = sm.add_constant(test_x_dummy)\n",
    "test_x_dummy = test_x_dummy.astype(int)\n",
    "predictions_4= model_4.predict(test_x_dummy)"
   ]
  },
  {
   "cell_type": "code",
   "execution_count": 92,
   "id": "9421cb0f-0ec2-40d2-b6b5-fda7be788c40",
   "metadata": {},
   "outputs": [],
   "source": [
    "import matplotlib.pyplot as plt\n",
    "from sklearn.metrics import roc_curve, auc, roc_auc_score\n",
    "\n"
   ]
  },
  {
   "cell_type": "code",
   "execution_count": 98,
   "id": "2435e2e2-594a-4e13-83c9-00f144930cdf",
   "metadata": {},
   "outputs": [
    {
     "data": {
      "image/png": "[encoded data removed]",
      "text/plain": [
       "<Figure size 640x480 with 1 Axes>"
      ]
     },
     "metadata": {},
     "output_type": "display_data"
    },
    {
     "name": "stdout",
     "output_type": "stream",
     "text": [
      "0.6277468173057416\n"
     ]
    }
   ],
   "source": [
    "auc_score = roc_auc_score(test_y_4, predictions_4)\n",
    "fpr, tpr, thresholds = roc_curve(test_y_4, predictions_4)\n",
    "\n",
    "roc_auc = auc(fpr, tpr)\n",
    "\n",
    "plt.figure()\n",
    "lw=2\n",
    "plt.plot(fpr, tpr, color='darkorange', lw=lw, label=\"ROC CURVE (AREA = %0.2f)\" % roc_auc)\n",
    "plt.plot([0,1], [0, 1], color = 'navy', lw=lw, linestyle = '--')\n",
    "plt.xlim([0.0, 1.0])\n",
    "plt.ylim([0.0, 1.0])\n",
    "plt.xlabel('False Positive Rate')\n",
    "plt.ylabel('True Positive Rate')\n",
    "plt.title('Baseline(4) Receiver Operating Characteristic (ROC)')\n",
    "plt.legend(loc=\"lower right\")\n",
    "\n",
    "plt.show()\n",
    "print(auc_score)"
   ]
  },
  {
   "cell_type": "code",
   "execution_count": 103,
   "id": "7580dea8-3a5f-4fd6-9ce3-e932fbb9e6ad",
   "metadata": {},
   "outputs": [],
   "source": []
  },
  {
   "cell_type": "code",
   "execution_count": 99,
   "id": "60477ce5-26ed-4ba0-a633-b140feb516ba",
   "metadata": {},
   "outputs": [
    {
     "name": "stdout",
     "output_type": "stream",
     "text": [
      "Optimization terminated successfully.\n",
      "         Current function value: 0.637954\n",
      "         Iterations 5\n"
     ]
    },
    {
     "data": {
      "text/html": [
       "<table class=\"simpletable\">\n",
       "<caption>Logit Regression Results</caption>\n",
       "<tr>\n",
       "  <th>Dep. Variable:</th>   <td>knee_pain_binary_threshold_7</td> <th>  No. Observations:  </th>   <td> 10780</td>  \n",
       "</tr>\n",
       "<tr>\n",
       "  <th>Model:</th>                       <td>Logit</td>            <th>  Df Residuals:      </th>   <td> 10770</td>  \n",
       "</tr>\n",
       "<tr>\n",
       "  <th>Method:</th>                       <td>MLE</td>             <th>  Df Model:          </th>   <td>     9</td>  \n",
       "</tr>\n",
       "<tr>\n",
       "  <th>Date:</th>                  <td>Sun, 20 Aug 2023</td>       <th>  Pseudo R-squ.:     </th>   <td>0.05048</td> \n",
       "</tr>\n",
       "<tr>\n",
       "  <th>Time:</th>                      <td>17:47:15</td>           <th>  Log-Likelihood:    </th>  <td> -6877.1</td> \n",
       "</tr>\n",
       "<tr>\n",
       "  <th>converged:</th>                   <td>True</td>             <th>  LL-Null:           </th>  <td> -7242.7</td> \n",
       "</tr>\n",
       "<tr>\n",
       "  <th>Covariance Type:</th>           <td>nonrobust</td>          <th>  LLR p-value:       </th> <td>1.368e-151</td>\n",
       "</tr>\n",
       "</table>\n",
       "<table class=\"simpletable\">\n",
       "<tr>\n",
       "                   <td></td>                     <th>coef</th>     <th>std err</th>      <th>z</th>      <th>P>|z|</th>  <th>[0.025</th>    <th>0.975]</th>  \n",
       "</tr>\n",
       "<tr>\n",
       "  <th>const</th>                              <td>   -1.4078</td> <td>    0.062</td> <td>  -22.660</td> <td> 0.000</td> <td>   -1.530</td> <td>   -1.286</td>\n",
       "</tr>\n",
       "<tr>\n",
       "  <th>African American  or Black</th>         <td>    0.9730</td> <td>    0.044</td> <td>   22.338</td> <td> 0.000</td> <td>    0.888</td> <td>    1.058</td>\n",
       "</tr>\n",
       "<tr>\n",
       "  <th>American Indian or Alaskan Native</th>  <td>    2.8552</td> <td>    1.098</td> <td>    2.600</td> <td> 0.009</td> <td>    0.703</td> <td>    5.007</td>\n",
       "</tr>\n",
       "<tr>\n",
       "  <th>Asian</th>                              <td>    0.6125</td> <td>    0.104</td> <td>    5.917</td> <td> 0.000</td> <td>    0.410</td> <td>    0.815</td>\n",
       "</tr>\n",
       "<tr>\n",
       "  <th>Multiple</th>                           <td>    1.1133</td> <td>    0.248</td> <td>    4.482</td> <td> 0.000</td> <td>    0.626</td> <td>    1.600</td>\n",
       "</tr>\n",
       "<tr>\n",
       "  <th>Unknown, Unavailable or Unreported</th> <td>    0.6438</td> <td>    0.099</td> <td>    6.493</td> <td> 0.000</td> <td>    0.450</td> <td>    0.838</td>\n",
       "</tr>\n",
       "<tr>\n",
       "  <th>klg_1</th>                              <td>    0.0393</td> <td>    0.108</td> <td>    0.364</td> <td> 0.716</td> <td>   -0.172</td> <td>    0.251</td>\n",
       "</tr>\n",
       "<tr>\n",
       "  <th>klg_2</th>                              <td>    0.3116</td> <td>    0.065</td> <td>    4.781</td> <td> 0.000</td> <td>    0.184</td> <td>    0.439</td>\n",
       "</tr>\n",
       "<tr>\n",
       "  <th>klg_3</th>                              <td>    0.6150</td> <td>    0.066</td> <td>    9.284</td> <td> 0.000</td> <td>    0.485</td> <td>    0.745</td>\n",
       "</tr>\n",
       "<tr>\n",
       "  <th>klg_4</th>                              <td>    0.9905</td> <td>    0.077</td> <td>   12.934</td> <td> 0.000</td> <td>    0.840</td> <td>    1.141</td>\n",
       "</tr>\n",
       "</table>"
      ],
      "text/latex": [
       "\\begin{center}\n",
       "\\begin{tabular}{lclc}\n",
       "\\toprule\n",
       "\\textbf{Dep. Variable:}                     & knee\\_pain\\_binary\\_threshold\\_7 & \\textbf{  No. Observations:  } &    10780    \\\\\n",
       "\\textbf{Model:}                             &              Logit               & \\textbf{  Df Residuals:      } &    10770    \\\\\n",
       "\\textbf{Method:}                            &               MLE                & \\textbf{  Df Model:          } &        9    \\\\\n",
       "\\textbf{Date:}                              &         Sun, 20 Aug 2023         & \\textbf{  Pseudo R-squ.:     } &  0.05048    \\\\\n",
       "\\textbf{Time:}                              &             17:47:15             & \\textbf{  Log-Likelihood:    } &   -6877.1   \\\\\n",
       "\\textbf{converged:}                         &               True               & \\textbf{  LL-Null:           } &   -7242.7   \\\\\n",
       "\\textbf{Covariance Type:}                   &            nonrobust             & \\textbf{  LLR p-value:       } & 1.368e-151  \\\\\n",
       "\\bottomrule\n",
       "\\end{tabular}\n",
       "\\begin{tabular}{lcccccc}\n",
       "                                            & \\textbf{coef} & \\textbf{std err} & \\textbf{z} & \\textbf{P$> |$z$|$} & \\textbf{[0.025} & \\textbf{0.975]}  \\\\\n",
       "\\midrule\n",
       "\\textbf{const}                              &      -1.4078  &        0.062     &   -22.660  &         0.000        &       -1.530    &       -1.286     \\\\\n",
       "\\textbf{African American  or Black}         &       0.9730  &        0.044     &    22.338  &         0.000        &        0.888    &        1.058     \\\\\n",
       "\\textbf{American Indian or Alaskan Native}  &       2.8552  &        1.098     &     2.600  &         0.009        &        0.703    &        5.007     \\\\\n",
       "\\textbf{Asian}                              &       0.6125  &        0.104     &     5.917  &         0.000        &        0.410    &        0.815     \\\\\n",
       "\\textbf{Multiple}                           &       1.1133  &        0.248     &     4.482  &         0.000        &        0.626    &        1.600     \\\\\n",
       "\\textbf{Unknown, Unavailable or Unreported} &       0.6438  &        0.099     &     6.493  &         0.000        &        0.450    &        0.838     \\\\\n",
       "\\textbf{klg\\_1}                             &       0.0393  &        0.108     &     0.364  &         0.716        &       -0.172    &        0.251     \\\\\n",
       "\\textbf{klg\\_2}                             &       0.3116  &        0.065     &     4.781  &         0.000        &        0.184    &        0.439     \\\\\n",
       "\\textbf{klg\\_3}                             &       0.6150  &        0.066     &     9.284  &         0.000        &        0.485    &        0.745     \\\\\n",
       "\\textbf{klg\\_4}                             &       0.9905  &        0.077     &    12.934  &         0.000        &        0.840    &        1.141     \\\\\n",
       "\\bottomrule\n",
       "\\end{tabular}\n",
       "%\\caption{Logit Regression Results}\n",
       "\\end{center}"
      ],
      "text/plain": [
       "<class 'statsmodels.iolib.summary.Summary'>\n",
       "\"\"\"\n",
       "                                Logit Regression Results                                \n",
       "========================================================================================\n",
       "Dep. Variable:     knee_pain_binary_threshold_7   No. Observations:                10780\n",
       "Model:                                    Logit   Df Residuals:                    10770\n",
       "Method:                                     MLE   Df Model:                            9\n",
       "Date:                          Sun, 20 Aug 2023   Pseudo R-squ.:                 0.05048\n",
       "Time:                                  17:47:15   Log-Likelihood:                -6877.1\n",
       "converged:                                 True   LL-Null:                       -7242.7\n",
       "Covariance Type:                      nonrobust   LLR p-value:                1.368e-151\n",
       "======================================================================================================\n",
       "                                         coef    std err          z      P>|z|      [0.025      0.975]\n",
       "------------------------------------------------------------------------------------------------------\n",
       "const                                 -1.4078      0.062    -22.660      0.000      -1.530      -1.286\n",
       "African American  or Black             0.9730      0.044     22.338      0.000       0.888       1.058\n",
       "American Indian or Alaskan Native      2.8552      1.098      2.600      0.009       0.703       5.007\n",
       "Asian                                  0.6125      0.104      5.917      0.000       0.410       0.815\n",
       "Multiple                               1.1133      0.248      4.482      0.000       0.626       1.600\n",
       "Unknown, Unavailable or Unreported     0.6438      0.099      6.493      0.000       0.450       0.838\n",
       "klg_1                                  0.0393      0.108      0.364      0.716      -0.172       0.251\n",
       "klg_2                                  0.3116      0.065      4.781      0.000       0.184       0.439\n",
       "klg_3                                  0.6150      0.066      9.284      0.000       0.485       0.745\n",
       "klg_4                                  0.9905      0.077     12.934      0.000       0.840       1.141\n",
       "======================================================================================================\n",
       "\"\"\""
      ]
     },
     "execution_count": 99,
     "metadata": {},
     "output_type": "execute_result"
    }
   ],
   "source": [
    "model_7 = sm.Logit(y_7, x).fit()\n",
    "model_7.summary()"
   ]
  },
  {
   "cell_type": "code",
   "execution_count": 100,
   "id": "0a9d4996-5ec4-45ed-8641-104321f6d624",
   "metadata": {},
   "outputs": [],
   "source": [
    "predictions_7= model_7.predict(test_x_dummy)"
   ]
  },
  {
   "cell_type": "code",
   "execution_count": 102,
   "id": "be0664d4-16ad-433b-9583-15f2c0a8209e",
   "metadata": {},
   "outputs": [
    {
     "data": {
      "image/png": "[encoded data removed]",
      "text/plain": [
       "<Figure size 640x480 with 1 Axes>"
      ]
     },
     "metadata": {},
     "output_type": "display_data"
    },
    {
     "name": "stdout",
     "output_type": "stream",
     "text": [
      "0.6776035257419226\n"
     ]
    }
   ],
   "source": [
    "auc_score = roc_auc_score(test_y_7, predictions_7)\n",
    "fpr, tpr, thresholds = roc_curve(test_y_7, predictions_7)\n",
    "\n",
    "roc_auc = auc(fpr, tpr)\n",
    "\n",
    "plt.figure()\n",
    "lw=2\n",
    "plt.plot(fpr, tpr, color='darkorange', lw=lw, label=\"ROC CURVE (AREA = %0.2f)\" % roc_auc)\n",
    "plt.plot([0,1], [0, 1], color = 'navy', lw=lw, linestyle = '--')\n",
    "plt.xlim([0.0, 1.0])\n",
    "plt.ylim([0.0, 1.0])\n",
    "plt.xlabel('False Positive Rate')\n",
    "plt.ylabel('True Positive Rate')\n",
    "plt.title('Baseline(7) Receiver Operating Characteristic (ROC)')\n",
    "plt.legend(loc=\"lower right\")\n",
    "\n",
    "plt.show()\n",
    "print(auc_score)"
   ]
  },
  {
   "cell_type": "code",
   "execution_count": 130,
   "id": "5668f9b8-d1ac-483d-aabf-fc2c780f7b86",
   "metadata": {},
   "outputs": [
    {
     "data": {
      "text/html": [
       "<div>\n",
       "<style scoped>\n",
       "    .dataframe tbody tr th:only-of-type {\n",
       "        vertical-align: middle;\n",
       "    }\n",
       "\n",
       "    .dataframe tbody tr th {\n",
       "        vertical-align: top;\n",
       "    }\n",
       "\n",
       "    .dataframe thead th {\n",
       "        text-align: right;\n",
       "    }\n",
       "</style>\n",
       "<table border=\"1\" class=\"dataframe\">\n",
       "  <thead>\n",
       "    <tr style=\"text-align: right;\">\n",
       "      <th></th>\n",
       "      <th>Class 1 Probability</th>\n",
       "      <th>Class 2 Probability</th>\n",
       "    </tr>\n",
       "  </thead>\n",
       "  <tbody>\n",
       "    <tr>\n",
       "      <th>0</th>\n",
       "      <td>0.606155</td>\n",
       "      <td>0.393845</td>\n",
       "    </tr>\n",
       "    <tr>\n",
       "      <th>1</th>\n",
       "      <td>0.698701</td>\n",
       "      <td>0.301299</td>\n",
       "    </tr>\n",
       "    <tr>\n",
       "      <th>2</th>\n",
       "      <td>0.626360</td>\n",
       "      <td>0.373640</td>\n",
       "    </tr>\n",
       "    <tr>\n",
       "      <th>3</th>\n",
       "      <td>0.672577</td>\n",
       "      <td>0.327423</td>\n",
       "    </tr>\n",
       "    <tr>\n",
       "      <th>4</th>\n",
       "      <td>0.730505</td>\n",
       "      <td>0.269495</td>\n",
       "    </tr>\n",
       "    <tr>\n",
       "      <th>...</th>\n",
       "      <td>...</td>\n",
       "      <td>...</td>\n",
       "    </tr>\n",
       "    <tr>\n",
       "      <th>1095</th>\n",
       "      <td>0.493262</td>\n",
       "      <td>0.506738</td>\n",
       "    </tr>\n",
       "    <tr>\n",
       "      <th>1096</th>\n",
       "      <td>0.538983</td>\n",
       "      <td>0.461017</td>\n",
       "    </tr>\n",
       "    <tr>\n",
       "      <th>1097</th>\n",
       "      <td>0.657351</td>\n",
       "      <td>0.342649</td>\n",
       "    </tr>\n",
       "    <tr>\n",
       "      <th>1098</th>\n",
       "      <td>0.498761</td>\n",
       "      <td>0.501239</td>\n",
       "    </tr>\n",
       "    <tr>\n",
       "      <th>1099</th>\n",
       "      <td>0.600275</td>\n",
       "      <td>0.399725</td>\n",
       "    </tr>\n",
       "  </tbody>\n",
       "</table>\n",
       "<p>10780 rows × 2 columns</p>\n",
       "</div>"
      ],
      "text/plain": [
       "      Class 1 Probability  Class 2 Probability\n",
       "0                0.606155             0.393845\n",
       "1                0.698701             0.301299\n",
       "2                0.626360             0.373640\n",
       "3                0.672577             0.327423\n",
       "4                0.730505             0.269495\n",
       "...                   ...                  ...\n",
       "1095             0.493262             0.506738\n",
       "1096             0.538983             0.461017\n",
       "1097             0.657351             0.342649\n",
       "1098             0.498761             0.501239\n",
       "1099             0.600275             0.399725\n",
       "\n",
       "[10780 rows x 2 columns]"
      ]
     },
     "execution_count": 130,
     "metadata": {},
     "output_type": "execute_result"
    }
   ],
   "source": [
    "cnn7_test = pd.read_csv('/home/jupyter-samuel/output_mrkr/softmax_output_test_7_excluded.csv')\n",
    "cnn7_train = pd.read_csv('/home/jupyter-samuel/output_mrkr/softmax_output_train_7_excluded.csv')\n",
    "cnn7_val = pd.read_csv('/home/jupyter-samuel/output_mrkr/softmax_output_val_7_excluded.csv')\n",
    "#softmax_output_train_7_excluded.csv\n",
    "#softmax_output_val_7_excluded.csv\n",
    "cnn7.columns\n",
    "cnn7_trainval = pd.concat([cnn7_train, cnn7_val])\n",
    "cnn7_trainval"
   ]
  },
  {
   "cell_type": "code",
   "execution_count": 109,
   "id": "5af194a7-208c-4254-85df-89416331a82c",
   "metadata": {},
   "outputs": [
    {
     "data": {
      "image/png": "[encoded data removed]",
      "text/plain": [
       "<Figure size 640x480 with 1 Axes>"
      ]
     },
     "metadata": {},
     "output_type": "display_data"
    },
    {
     "name": "stdout",
     "output_type": "stream",
     "text": [
      "0.6388054196198888\n"
     ]
    }
   ],
   "source": [
    "auc_score = roc_auc_score(test_y_7, list(cnn7['Class 2 Probability']))\n",
    "fpr, tpr, thresholds = roc_curve(test_y_7, list(cnn7['Class 2 Probability']))\n",
    "\n",
    "roc_auc = auc(fpr, tpr)\n",
    "\n",
    "plt.figure()\n",
    "lw=2\n",
    "plt.plot(fpr, tpr, color='darkorange', lw=lw, label=\"ROC CURVE (AREA = %0.2f)\" % roc_auc)\n",
    "plt.plot([0,1], [0, 1], color = 'navy', lw=lw, linestyle = '--')\n",
    "plt.xlim([0.0, 1.0])\n",
    "plt.ylim([0.0, 1.0])\n",
    "plt.xlabel('False Positive Rate')\n",
    "plt.ylabel('True Positive Rate')\n",
    "plt.title('CNN(7) Receiver Operating Characteristic (ROC)')\n",
    "plt.legend(loc=\"lower right\")\n",
    "\n",
    "plt.show()\n",
    "print(auc_score)"
   ]
  },
  {
   "cell_type": "code",
   "execution_count": 153,
   "id": "c8eeb877-ed7c-4b2e-9bc9-40fa0d8288bc",
   "metadata": {},
   "outputs": [
    {
     "name": "stdout",
     "output_type": "stream",
     "text": [
      "(10780, 7)\n"
     ]
    }
   ],
   "source": [
    "print(dummy_race.shape)\n",
    "len(list(cnn7_trainval['Class 2 Probability']))\n",
    "\n",
    "trainval_score = cnn7_trainval['Class 2 Probability']\n",
    "trainval_score\n",
    "\n",
    "test_score = cnn7_test['Class 2 Probability']"
   ]
  },
  {
   "cell_type": "code",
   "execution_count": 147,
   "id": "9f76b5db-d4f4-4a5a-a09e-813a687d792d",
   "metadata": {},
   "outputs": [],
   "source": [
    "cnn_x_dummy = pd.concat([dummy_race.reset_index(drop=True), trainval_score.reset_index(drop=True)], axis=1).drop(['Caucasian or White', 'Native Hawaiian or Other Pacific Islander'], axis=1)"
   ]
  },
  {
   "cell_type": "code",
   "execution_count": 148,
   "id": "0bf280c5-bd23-49ea-858d-675a6f660987",
   "metadata": {},
   "outputs": [
    {
     "data": {
      "text/html": [
       "<div>\n",
       "<style scoped>\n",
       "    .dataframe tbody tr th:only-of-type {\n",
       "        vertical-align: middle;\n",
       "    }\n",
       "\n",
       "    .dataframe tbody tr th {\n",
       "        vertical-align: top;\n",
       "    }\n",
       "\n",
       "    .dataframe thead th {\n",
       "        text-align: right;\n",
       "    }\n",
       "</style>\n",
       "<table border=\"1\" class=\"dataframe\">\n",
       "  <thead>\n",
       "    <tr style=\"text-align: right;\">\n",
       "      <th></th>\n",
       "      <th>const</th>\n",
       "      <th>African American  or Black</th>\n",
       "      <th>American Indian or Alaskan Native</th>\n",
       "      <th>Asian</th>\n",
       "      <th>Multiple</th>\n",
       "      <th>Unknown, Unavailable or Unreported</th>\n",
       "      <th>Class 2 Probability</th>\n",
       "    </tr>\n",
       "  </thead>\n",
       "  <tbody>\n",
       "    <tr>\n",
       "      <th>0</th>\n",
       "      <td>1.0</td>\n",
       "      <td>1.0</td>\n",
       "      <td>0.0</td>\n",
       "      <td>0.0</td>\n",
       "      <td>0.0</td>\n",
       "      <td>0.0</td>\n",
       "      <td>0.393845</td>\n",
       "    </tr>\n",
       "    <tr>\n",
       "      <th>1</th>\n",
       "      <td>1.0</td>\n",
       "      <td>0.0</td>\n",
       "      <td>0.0</td>\n",
       "      <td>0.0</td>\n",
       "      <td>0.0</td>\n",
       "      <td>0.0</td>\n",
       "      <td>0.301299</td>\n",
       "    </tr>\n",
       "    <tr>\n",
       "      <th>2</th>\n",
       "      <td>1.0</td>\n",
       "      <td>0.0</td>\n",
       "      <td>0.0</td>\n",
       "      <td>0.0</td>\n",
       "      <td>0.0</td>\n",
       "      <td>0.0</td>\n",
       "      <td>0.373640</td>\n",
       "    </tr>\n",
       "    <tr>\n",
       "      <th>3</th>\n",
       "      <td>1.0</td>\n",
       "      <td>1.0</td>\n",
       "      <td>0.0</td>\n",
       "      <td>0.0</td>\n",
       "      <td>0.0</td>\n",
       "      <td>0.0</td>\n",
       "      <td>0.327423</td>\n",
       "    </tr>\n",
       "    <tr>\n",
       "      <th>4</th>\n",
       "      <td>1.0</td>\n",
       "      <td>0.0</td>\n",
       "      <td>0.0</td>\n",
       "      <td>0.0</td>\n",
       "      <td>0.0</td>\n",
       "      <td>0.0</td>\n",
       "      <td>0.269495</td>\n",
       "    </tr>\n",
       "    <tr>\n",
       "      <th>...</th>\n",
       "      <td>...</td>\n",
       "      <td>...</td>\n",
       "      <td>...</td>\n",
       "      <td>...</td>\n",
       "      <td>...</td>\n",
       "      <td>...</td>\n",
       "      <td>...</td>\n",
       "    </tr>\n",
       "    <tr>\n",
       "      <th>10775</th>\n",
       "      <td>1.0</td>\n",
       "      <td>0.0</td>\n",
       "      <td>0.0</td>\n",
       "      <td>1.0</td>\n",
       "      <td>0.0</td>\n",
       "      <td>0.0</td>\n",
       "      <td>0.506738</td>\n",
       "    </tr>\n",
       "    <tr>\n",
       "      <th>10776</th>\n",
       "      <td>1.0</td>\n",
       "      <td>0.0</td>\n",
       "      <td>0.0</td>\n",
       "      <td>1.0</td>\n",
       "      <td>0.0</td>\n",
       "      <td>0.0</td>\n",
       "      <td>0.461017</td>\n",
       "    </tr>\n",
       "    <tr>\n",
       "      <th>10777</th>\n",
       "      <td>1.0</td>\n",
       "      <td>0.0</td>\n",
       "      <td>0.0</td>\n",
       "      <td>0.0</td>\n",
       "      <td>0.0</td>\n",
       "      <td>0.0</td>\n",
       "      <td>0.342649</td>\n",
       "    </tr>\n",
       "    <tr>\n",
       "      <th>10778</th>\n",
       "      <td>1.0</td>\n",
       "      <td>0.0</td>\n",
       "      <td>0.0</td>\n",
       "      <td>0.0</td>\n",
       "      <td>0.0</td>\n",
       "      <td>0.0</td>\n",
       "      <td>0.501239</td>\n",
       "    </tr>\n",
       "    <tr>\n",
       "      <th>10779</th>\n",
       "      <td>1.0</td>\n",
       "      <td>1.0</td>\n",
       "      <td>0.0</td>\n",
       "      <td>0.0</td>\n",
       "      <td>0.0</td>\n",
       "      <td>0.0</td>\n",
       "      <td>0.399725</td>\n",
       "    </tr>\n",
       "  </tbody>\n",
       "</table>\n",
       "<p>10780 rows × 7 columns</p>\n",
       "</div>"
      ],
      "text/plain": [
       "       const  African American  or Black  American Indian or Alaskan Native  \\\n",
       "0        1.0                         1.0                                0.0   \n",
       "1        1.0                         0.0                                0.0   \n",
       "2        1.0                         0.0                                0.0   \n",
       "3        1.0                         1.0                                0.0   \n",
       "4        1.0                         0.0                                0.0   \n",
       "...      ...                         ...                                ...   \n",
       "10775    1.0                         0.0                                0.0   \n",
       "10776    1.0                         0.0                                0.0   \n",
       "10777    1.0                         0.0                                0.0   \n",
       "10778    1.0                         0.0                                0.0   \n",
       "10779    1.0                         1.0                                0.0   \n",
       "\n",
       "       Asian  Multiple  Unknown, Unavailable or Unreported  \\\n",
       "0        0.0       0.0                                 0.0   \n",
       "1        0.0       0.0                                 0.0   \n",
       "2        0.0       0.0                                 0.0   \n",
       "3        0.0       0.0                                 0.0   \n",
       "4        0.0       0.0                                 0.0   \n",
       "...      ...       ...                                 ...   \n",
       "10775    1.0       0.0                                 0.0   \n",
       "10776    1.0       0.0                                 0.0   \n",
       "10777    0.0       0.0                                 0.0   \n",
       "10778    0.0       0.0                                 0.0   \n",
       "10779    0.0       0.0                                 0.0   \n",
       "\n",
       "       Class 2 Probability  \n",
       "0                 0.393845  \n",
       "1                 0.301299  \n",
       "2                 0.373640  \n",
       "3                 0.327423  \n",
       "4                 0.269495  \n",
       "...                    ...  \n",
       "10775             0.506738  \n",
       "10776             0.461017  \n",
       "10777             0.342649  \n",
       "10778             0.501239  \n",
       "10779             0.399725  \n",
       "\n",
       "[10780 rows x 7 columns]"
      ]
     },
     "execution_count": 148,
     "metadata": {},
     "output_type": "execute_result"
    }
   ],
   "source": [
    "cnn_x_dummy = sm.add_constant(cnn_x_dummy)\n",
    "cnn_x_dummy = cnn_x_dummy.astype(float)\n",
    "\n",
    "cnn_x_dummy"
   ]
  },
  {
   "cell_type": "code",
   "execution_count": 149,
   "id": "a40ae28c-5bbe-40ab-bb9f-c5ca97f04cff",
   "metadata": {},
   "outputs": [
    {
     "name": "stdout",
     "output_type": "stream",
     "text": [
      "Optimization terminated successfully.\n",
      "         Current function value: 0.617442\n",
      "         Iterations 6\n"
     ]
    },
    {
     "data": {
      "text/html": [
       "<table class=\"simpletable\">\n",
       "<caption>Logit Regression Results</caption>\n",
       "<tr>\n",
       "  <th>Dep. Variable:</th>   <td>knee_pain_binary_threshold_7</td> <th>  No. Observations:  </th>   <td> 10780</td>  \n",
       "</tr>\n",
       "<tr>\n",
       "  <th>Model:</th>                       <td>Logit</td>            <th>  Df Residuals:      </th>   <td> 10773</td>  \n",
       "</tr>\n",
       "<tr>\n",
       "  <th>Method:</th>                       <td>MLE</td>             <th>  Df Model:          </th>   <td>     6</td>  \n",
       "</tr>\n",
       "<tr>\n",
       "  <th>Date:</th>                  <td>Sun, 20 Aug 2023</td>       <th>  Pseudo R-squ.:     </th>   <td>0.08101</td> \n",
       "</tr>\n",
       "<tr>\n",
       "  <th>Time:</th>                      <td>18:20:16</td>           <th>  Log-Likelihood:    </th>  <td> -6656.0</td> \n",
       "</tr>\n",
       "<tr>\n",
       "  <th>converged:</th>                   <td>True</td>             <th>  LL-Null:           </th>  <td> -7242.7</td> \n",
       "</tr>\n",
       "<tr>\n",
       "  <th>Covariance Type:</th>           <td>nonrobust</td>          <th>  LLR p-value:       </th> <td>2.717e-250</td>\n",
       "</tr>\n",
       "</table>\n",
       "<table class=\"simpletable\">\n",
       "<tr>\n",
       "                   <td></td>                     <th>coef</th>     <th>std err</th>      <th>z</th>      <th>P>|z|</th>  <th>[0.025</th>    <th>0.975]</th>  \n",
       "</tr>\n",
       "<tr>\n",
       "  <th>const</th>                              <td>   -3.3346</td> <td>    0.103</td> <td>  -32.247</td> <td> 0.000</td> <td>   -3.537</td> <td>   -3.132</td>\n",
       "</tr>\n",
       "<tr>\n",
       "  <th>African American  or Black</th>         <td>    0.6239</td> <td>    0.045</td> <td>   13.742</td> <td> 0.000</td> <td>    0.535</td> <td>    0.713</td>\n",
       "</tr>\n",
       "<tr>\n",
       "  <th>American Indian or Alaskan Native</th>  <td>    1.9675</td> <td>    1.101</td> <td>    1.786</td> <td> 0.074</td> <td>   -0.191</td> <td>    4.126</td>\n",
       "</tr>\n",
       "<tr>\n",
       "  <th>Asian</th>                              <td>    0.4316</td> <td>    0.106</td> <td>    4.065</td> <td> 0.000</td> <td>    0.224</td> <td>    0.640</td>\n",
       "</tr>\n",
       "<tr>\n",
       "  <th>Multiple</th>                           <td>    0.9023</td> <td>    0.253</td> <td>    3.561</td> <td> 0.000</td> <td>    0.406</td> <td>    1.399</td>\n",
       "</tr>\n",
       "<tr>\n",
       "  <th>Unknown, Unavailable or Unreported</th> <td>    0.4370</td> <td>    0.101</td> <td>    4.310</td> <td> 0.000</td> <td>    0.238</td> <td>    0.636</td>\n",
       "</tr>\n",
       "<tr>\n",
       "  <th>Class 2 Probability</th>                <td>    5.5660</td> <td>    0.222</td> <td>   25.032</td> <td> 0.000</td> <td>    5.130</td> <td>    6.002</td>\n",
       "</tr>\n",
       "</table>"
      ],
      "text/latex": [
       "\\begin{center}\n",
       "\\begin{tabular}{lclc}\n",
       "\\toprule\n",
       "\\textbf{Dep. Variable:}                     & knee\\_pain\\_binary\\_threshold\\_7 & \\textbf{  No. Observations:  } &    10780    \\\\\n",
       "\\textbf{Model:}                             &              Logit               & \\textbf{  Df Residuals:      } &    10773    \\\\\n",
       "\\textbf{Method:}                            &               MLE                & \\textbf{  Df Model:          } &        6    \\\\\n",
       "\\textbf{Date:}                              &         Sun, 20 Aug 2023         & \\textbf{  Pseudo R-squ.:     } &  0.08101    \\\\\n",
       "\\textbf{Time:}                              &             18:20:16             & \\textbf{  Log-Likelihood:    } &   -6656.0   \\\\\n",
       "\\textbf{converged:}                         &               True               & \\textbf{  LL-Null:           } &   -7242.7   \\\\\n",
       "\\textbf{Covariance Type:}                   &            nonrobust             & \\textbf{  LLR p-value:       } & 2.717e-250  \\\\\n",
       "\\bottomrule\n",
       "\\end{tabular}\n",
       "\\begin{tabular}{lcccccc}\n",
       "                                            & \\textbf{coef} & \\textbf{std err} & \\textbf{z} & \\textbf{P$> |$z$|$} & \\textbf{[0.025} & \\textbf{0.975]}  \\\\\n",
       "\\midrule\n",
       "\\textbf{const}                              &      -3.3346  &        0.103     &   -32.247  &         0.000        &       -3.537    &       -3.132     \\\\\n",
       "\\textbf{African American  or Black}         &       0.6239  &        0.045     &    13.742  &         0.000        &        0.535    &        0.713     \\\\\n",
       "\\textbf{American Indian or Alaskan Native}  &       1.9675  &        1.101     &     1.786  &         0.074        &       -0.191    &        4.126     \\\\\n",
       "\\textbf{Asian}                              &       0.4316  &        0.106     &     4.065  &         0.000        &        0.224    &        0.640     \\\\\n",
       "\\textbf{Multiple}                           &       0.9023  &        0.253     &     3.561  &         0.000        &        0.406    &        1.399     \\\\\n",
       "\\textbf{Unknown, Unavailable or Unreported} &       0.4370  &        0.101     &     4.310  &         0.000        &        0.238    &        0.636     \\\\\n",
       "\\textbf{Class 2 Probability}                &       5.5660  &        0.222     &    25.032  &         0.000        &        5.130    &        6.002     \\\\\n",
       "\\bottomrule\n",
       "\\end{tabular}\n",
       "%\\caption{Logit Regression Results}\n",
       "\\end{center}"
      ],
      "text/plain": [
       "<class 'statsmodels.iolib.summary.Summary'>\n",
       "\"\"\"\n",
       "                                Logit Regression Results                                \n",
       "========================================================================================\n",
       "Dep. Variable:     knee_pain_binary_threshold_7   No. Observations:                10780\n",
       "Model:                                    Logit   Df Residuals:                    10773\n",
       "Method:                                     MLE   Df Model:                            6\n",
       "Date:                          Sun, 20 Aug 2023   Pseudo R-squ.:                 0.08101\n",
       "Time:                                  18:20:16   Log-Likelihood:                -6656.0\n",
       "converged:                                 True   LL-Null:                       -7242.7\n",
       "Covariance Type:                      nonrobust   LLR p-value:                2.717e-250\n",
       "======================================================================================================\n",
       "                                         coef    std err          z      P>|z|      [0.025      0.975]\n",
       "------------------------------------------------------------------------------------------------------\n",
       "const                                 -3.3346      0.103    -32.247      0.000      -3.537      -3.132\n",
       "African American  or Black             0.6239      0.045     13.742      0.000       0.535       0.713\n",
       "American Indian or Alaskan Native      1.9675      1.101      1.786      0.074      -0.191       4.126\n",
       "Asian                                  0.4316      0.106      4.065      0.000       0.224       0.640\n",
       "Multiple                               0.9023      0.253      3.561      0.000       0.406       1.399\n",
       "Unknown, Unavailable or Unreported     0.4370      0.101      4.310      0.000       0.238       0.636\n",
       "Class 2 Probability                    5.5660      0.222     25.032      0.000       5.130       6.002\n",
       "======================================================================================================\n",
       "\"\"\""
      ]
     },
     "execution_count": 149,
     "metadata": {},
     "output_type": "execute_result"
    }
   ],
   "source": [
    "model_7_cnn = sm.Logit(y_7, cnn_x_dummy).fit()\n",
    "model_7_cnn.summary()"
   ]
  },
  {
   "cell_type": "code",
   "execution_count": 151,
   "id": "2f21af07-822f-47b9-8326-9e21ff0bb99e",
   "metadata": {},
   "outputs": [],
   "source": [
    "# test_x_dummy_cnn = pd.get_dummies(test['RACE']).drop(['Caucasian or White'], axis=1)\n",
    "# test_x_dummy_cnn = sm.add_constant(test_x_dummy_cnn)\n",
    "# test_x_dummy_cnn = test_x_dummy_cnn.astype(float)"
   ]
  },
  {
   "cell_type": "code",
   "execution_count": 157,
   "id": "97a3ebc1-27a5-45a9-946f-a183cf08d07a",
   "metadata": {},
   "outputs": [],
   "source": [
    "test_x_dummy_cnn = pd.concat([pd.get_dummies(test['RACE']).reset_index(drop=True), test_score.reset_index(drop=True)], axis=1).drop(['Caucasian or White'], axis=1)\n",
    "test_x_dummy_cnn = sm.add_constant(test_x_dummy_cnn)\n",
    "test_x_dummy_cnn = test_x_dummy_cnn.astype(float)"
   ]
  },
  {
   "cell_type": "code",
   "execution_count": 158,
   "id": "e6b9e1a6-a32c-4f6a-9d0c-33abe25a97de",
   "metadata": {},
   "outputs": [],
   "source": [
    "predictions_7_cnn= model_7_cnn.predict(test_x_dummy_cnn)\n"
   ]
  },
  {
   "cell_type": "code",
   "execution_count": 160,
   "id": "b2c54e42-f164-4ab2-b65d-8c5ed293a66d",
   "metadata": {},
   "outputs": [
    {
     "data": {
      "image/png": "[encoded data removed]",
      "text/plain": [
       "<Figure size 640x480 with 1 Axes>"
      ]
     },
     "metadata": {},
     "output_type": "display_data"
    },
    {
     "name": "stdout",
     "output_type": "stream",
     "text": [
      "0.6611370263317721\n"
     ]
    }
   ],
   "source": [
    "auc_score = roc_auc_score(test_y_7, predictions_7_cnn)\n",
    "fpr, tpr, thresholds = roc_curve(test_y_7, predictions_7_cnn)\n",
    "\n",
    "roc_auc = auc(fpr, tpr)\n",
    "\n",
    "plt.figure()\n",
    "lw=2\n",
    "plt.plot(fpr, tpr, color='darkorange', lw=lw, label=\"ROC CURVE (AREA = %0.2f)\" % roc_auc)\n",
    "plt.plot([0,1], [0, 1], color = 'navy', lw=lw, linestyle = '--')\n",
    "plt.xlim([0.0, 1.0])\n",
    "plt.ylim([0.0, 1.0])\n",
    "plt.xlabel('False Positive Rate')\n",
    "plt.ylabel('True Positive Rate')\n",
    "plt.title('CNN(7) Receiver Operating Characteristic (ROC)')\n",
    "plt.legend(loc=\"lower right\")\n",
    "\n",
    "plt.show()\n",
    "print(auc_score)"
   ]
  },
  {
   "cell_type": "code",
   "execution_count": null,
   "id": "6fdd31b3-e8bc-4b4c-bcc6-68415eec7f86",
   "metadata": {},
   "outputs": [],
   "source": []
  },
  {
   "cell_type": "code",
   "execution_count": null,
   "id": "fbaf5fc5-9d96-4316-b3e2-8a898cef5ea6",
   "metadata": {},
   "outputs": [],
   "source": [
    "auc_score = roc_auc_score(test_y_7, predictions_7)\n",
    "fpr, tpr, thresholds = roc_curve(test_y_7, predictions_7)\n",
    "\n",
    "roc_auc = auc(fpr, tpr)\n",
    "\n",
    "plt.figure()\n",
    "lw=2\n",
    "plt.plot(fpr, tpr, color='darkorange', lw=lw, label=\"ROC CURVE (AREA = %0.2f)\" % roc_auc)\n",
    "plt.plot([0,1], [0, 1], color = 'navy', lw=lw, linestyle = '--')\n",
    "plt.xlim([0.0, 1.0])\n",
    "plt.ylim([0.0, 1.0])\n",
    "plt.xlabel('False Positive Rate')\n",
    "plt.ylabel('True Positive Rate')\n",
    "plt.title('Baseline(7) Receiver Operating Characteristic (ROC)')\n",
    "plt.legend(loc=\"lower right\")\n",
    "\n",
    "plt.show()\n",
    "print(auc_score)"
   ]
  },
  {
   "cell_type": "code",
   "execution_count": null,
   "id": "b81d9cd3-d5fd-4032-8a4b-50cd31bae6da",
   "metadata": {},
   "outputs": [],
   "source": []
  },
  {
   "cell_type": "code",
   "execution_count": 20,
   "id": "ab642f90-4d79-4f83-bfc6-dbc5fd2b4c4f",
   "metadata": {},
   "outputs": [],
   "source": [
    "X = stacked_df[['KLG', 'RACE']]\n",
    "y = stacked_df['knee_pain_binary_threshold_4']"
   ]
  },
  {
   "cell_type": "code",
   "execution_count": 42,
   "id": "b90841ad-4973-4aa4-a0a4-6ef116c1facc",
   "metadata": {},
   "outputs": [],
   "source": [
    "logit_model = sm.Logit(y, x_dummy)"
   ]
  },
  {
   "cell_type": "code",
   "execution_count": 43,
   "id": "ca77d0a8-682a-4c4c-a2ea-22f227ecb1fa",
   "metadata": {},
   "outputs": [
    {
     "name": "stdout",
     "output_type": "stream",
     "text": [
      "Optimization terminated successfully.\n",
      "         Current function value: 0.611016\n",
      "         Iterations 5\n"
     ]
    },
    {
     "ename": "AttributeError",
     "evalue": "'LogitResults' object has no attribute 'rsquared_adj'",
     "output_type": "error",
     "traceback": [
      "\u001b[0;31m---------------------------------------------------------------------------\u001b[0m",
      "\u001b[0;31mAttributeError\u001b[0m                            Traceback (most recent call last)",
      "Cell \u001b[0;32mIn[43], line 3\u001b[0m\n\u001b[1;32m      1\u001b[0m result \u001b[38;5;241m=\u001b[39m logit_model\u001b[38;5;241m.\u001b[39mfit()\n\u001b[0;32m----> 3\u001b[0m \u001b[38;5;28mprint\u001b[39m(\u001b[38;5;124m\"\u001b[39m\u001b[38;5;124mAdjusted R^2:\u001b[39m\u001b[38;5;124m\"\u001b[39m, \u001b[43mresult\u001b[49m\u001b[38;5;241;43m.\u001b[39;49m\u001b[43mrsquared_adj\u001b[49m)\n",
      "File \u001b[0;32m~/.conda/envs/torch_2.0.1/lib/python3.8/site-packages/statsmodels/base/wrapper.py:34\u001b[0m, in \u001b[0;36mResultsWrapper.__getattribute__\u001b[0;34m(self, attr)\u001b[0m\n\u001b[1;32m     31\u001b[0m \u001b[38;5;28;01mexcept\u001b[39;00m \u001b[38;5;167;01mAttributeError\u001b[39;00m:\n\u001b[1;32m     32\u001b[0m     \u001b[38;5;28;01mpass\u001b[39;00m\n\u001b[0;32m---> 34\u001b[0m obj \u001b[38;5;241m=\u001b[39m \u001b[38;5;28;43mgetattr\u001b[39;49m\u001b[43m(\u001b[49m\u001b[43mresults\u001b[49m\u001b[43m,\u001b[49m\u001b[43m \u001b[49m\u001b[43mattr\u001b[49m\u001b[43m)\u001b[49m\n\u001b[1;32m     35\u001b[0m data \u001b[38;5;241m=\u001b[39m results\u001b[38;5;241m.\u001b[39mmodel\u001b[38;5;241m.\u001b[39mdata\n\u001b[1;32m     36\u001b[0m how \u001b[38;5;241m=\u001b[39m \u001b[38;5;28mself\u001b[39m\u001b[38;5;241m.\u001b[39m_wrap_attrs\u001b[38;5;241m.\u001b[39mget(attr)\n",
      "\u001b[0;31mAttributeError\u001b[0m: 'LogitResults' object has no attribute 'rsquared_adj'"
     ]
    }
   ],
   "source": [
    "result = logit_model.fit()\n",
    "\n",
    "print(\"Adjusted R^2:\", result.rsquared_adj)"
   ]
  },
  {
   "cell_type": "code",
   "execution_count": 39,
   "id": "3bcad1d7-e6fb-4d9b-acd8-1b48106f7b3c",
   "metadata": {},
   "outputs": [
    {
     "ename": "ValueError",
     "evalue": "Pandas data cast to numpy dtype of object. Check input data with np.asarray(data).",
     "output_type": "error",
     "traceback": [
      "\u001b[0;31m---------------------------------------------------------------------------\u001b[0m",
      "\u001b[0;31mValueError\u001b[0m                                Traceback (most recent call last)",
      "Cell \u001b[0;32mIn[39], line 4\u001b[0m\n\u001b[1;32m      1\u001b[0m \u001b[38;5;66;03m#logit_model = sm.Logit(y, X)\u001b[39;00m\n\u001b[1;32m      2\u001b[0m \u001b[38;5;66;03m#result = logit_model.fit()\u001b[39;00m\n\u001b[1;32m      3\u001b[0m x_dummy \u001b[38;5;241m=\u001b[39m sm\u001b[38;5;241m.\u001b[39madd_constant(x_dummy)\n\u001b[0;32m----> 4\u001b[0m logit_model \u001b[38;5;241m=\u001b[39m \u001b[43msm\u001b[49m\u001b[38;5;241;43m.\u001b[39;49m\u001b[43mLogit\u001b[49m\u001b[43m(\u001b[49m\u001b[43my\u001b[49m\u001b[43m,\u001b[49m\u001b[43m \u001b[49m\u001b[43mx_dummy\u001b[49m\u001b[43m)\u001b[49m\n\u001b[1;32m      5\u001b[0m result \u001b[38;5;241m=\u001b[39m logit_model\u001b[38;5;241m.\u001b[39mfit()\n\u001b[1;32m      7\u001b[0m \u001b[38;5;28mprint\u001b[39m(\u001b[38;5;124m\"\u001b[39m\u001b[38;5;124mAdjusted R^2:\u001b[39m\u001b[38;5;124m\"\u001b[39m, result\u001b[38;5;241m.\u001b[39mrsquared_adj)\n",
      "File \u001b[0;32m~/.conda/envs/torch_2.0.1/lib/python3.8/site-packages/statsmodels/discrete/discrete_model.py:475\u001b[0m, in \u001b[0;36mBinaryModel.__init__\u001b[0;34m(self, endog, exog, offset, check_rank, **kwargs)\u001b[0m\n\u001b[1;32m    472\u001b[0m \u001b[38;5;28;01mdef\u001b[39;00m \u001b[38;5;21m__init__\u001b[39m(\u001b[38;5;28mself\u001b[39m, endog, exog, offset\u001b[38;5;241m=\u001b[39m\u001b[38;5;28;01mNone\u001b[39;00m, check_rank\u001b[38;5;241m=\u001b[39m\u001b[38;5;28;01mTrue\u001b[39;00m, \u001b[38;5;241m*\u001b[39m\u001b[38;5;241m*\u001b[39mkwargs):\n\u001b[1;32m    473\u001b[0m     \u001b[38;5;66;03m# unconditional check, requires no extra kwargs added by subclasses\u001b[39;00m\n\u001b[1;32m    474\u001b[0m     \u001b[38;5;28mself\u001b[39m\u001b[38;5;241m.\u001b[39m_check_kwargs(kwargs)\n\u001b[0;32m--> 475\u001b[0m     \u001b[38;5;28;43msuper\u001b[39;49m\u001b[43m(\u001b[49m\u001b[43m)\u001b[49m\u001b[38;5;241;43m.\u001b[39;49m\u001b[38;5;21;43m__init__\u001b[39;49m\u001b[43m(\u001b[49m\u001b[43mendog\u001b[49m\u001b[43m,\u001b[49m\u001b[43m \u001b[49m\u001b[43mexog\u001b[49m\u001b[43m,\u001b[49m\u001b[43m \u001b[49m\u001b[43moffset\u001b[49m\u001b[38;5;241;43m=\u001b[39;49m\u001b[43moffset\u001b[49m\u001b[43m,\u001b[49m\u001b[43m \u001b[49m\u001b[43mcheck_rank\u001b[49m\u001b[38;5;241;43m=\u001b[39;49m\u001b[43mcheck_rank\u001b[49m\u001b[43m,\u001b[49m\n\u001b[1;32m    476\u001b[0m \u001b[43m                     \u001b[49m\u001b[38;5;241;43m*\u001b[39;49m\u001b[38;5;241;43m*\u001b[39;49m\u001b[43mkwargs\u001b[49m\u001b[43m)\u001b[49m\n\u001b[1;32m    477\u001b[0m     \u001b[38;5;28;01mif\u001b[39;00m \u001b[38;5;129;01mnot\u001b[39;00m \u001b[38;5;28missubclass\u001b[39m(\u001b[38;5;28mself\u001b[39m\u001b[38;5;241m.\u001b[39m\u001b[38;5;18m__class__\u001b[39m, MultinomialModel):\n\u001b[1;32m    478\u001b[0m         \u001b[38;5;28;01mif\u001b[39;00m \u001b[38;5;129;01mnot\u001b[39;00m np\u001b[38;5;241m.\u001b[39mall((\u001b[38;5;28mself\u001b[39m\u001b[38;5;241m.\u001b[39mendog \u001b[38;5;241m>\u001b[39m\u001b[38;5;241m=\u001b[39m \u001b[38;5;241m0\u001b[39m) \u001b[38;5;241m&\u001b[39m (\u001b[38;5;28mself\u001b[39m\u001b[38;5;241m.\u001b[39mendog \u001b[38;5;241m<\u001b[39m\u001b[38;5;241m=\u001b[39m \u001b[38;5;241m1\u001b[39m)):\n",
      "File \u001b[0;32m~/.conda/envs/torch_2.0.1/lib/python3.8/site-packages/statsmodels/discrete/discrete_model.py:185\u001b[0m, in \u001b[0;36mDiscreteModel.__init__\u001b[0;34m(self, endog, exog, check_rank, **kwargs)\u001b[0m\n\u001b[1;32m    183\u001b[0m \u001b[38;5;28;01mdef\u001b[39;00m \u001b[38;5;21m__init__\u001b[39m(\u001b[38;5;28mself\u001b[39m, endog, exog, check_rank\u001b[38;5;241m=\u001b[39m\u001b[38;5;28;01mTrue\u001b[39;00m, \u001b[38;5;241m*\u001b[39m\u001b[38;5;241m*\u001b[39mkwargs):\n\u001b[1;32m    184\u001b[0m     \u001b[38;5;28mself\u001b[39m\u001b[38;5;241m.\u001b[39m_check_rank \u001b[38;5;241m=\u001b[39m check_rank\n\u001b[0;32m--> 185\u001b[0m     \u001b[38;5;28;43msuper\u001b[39;49m\u001b[43m(\u001b[49m\u001b[43m)\u001b[49m\u001b[38;5;241;43m.\u001b[39;49m\u001b[38;5;21;43m__init__\u001b[39;49m\u001b[43m(\u001b[49m\u001b[43mendog\u001b[49m\u001b[43m,\u001b[49m\u001b[43m \u001b[49m\u001b[43mexog\u001b[49m\u001b[43m,\u001b[49m\u001b[43m \u001b[49m\u001b[38;5;241;43m*\u001b[39;49m\u001b[38;5;241;43m*\u001b[39;49m\u001b[43mkwargs\u001b[49m\u001b[43m)\u001b[49m\n\u001b[1;32m    186\u001b[0m     \u001b[38;5;28mself\u001b[39m\u001b[38;5;241m.\u001b[39mraise_on_perfect_prediction \u001b[38;5;241m=\u001b[39m \u001b[38;5;28;01mFalse\u001b[39;00m  \u001b[38;5;66;03m# keep for backwards compat\u001b[39;00m\n\u001b[1;32m    187\u001b[0m     \u001b[38;5;28mself\u001b[39m\u001b[38;5;241m.\u001b[39mk_extra \u001b[38;5;241m=\u001b[39m \u001b[38;5;241m0\u001b[39m\n",
      "File \u001b[0;32m~/.conda/envs/torch_2.0.1/lib/python3.8/site-packages/statsmodels/base/model.py:270\u001b[0m, in \u001b[0;36mLikelihoodModel.__init__\u001b[0;34m(self, endog, exog, **kwargs)\u001b[0m\n\u001b[1;32m    269\u001b[0m \u001b[38;5;28;01mdef\u001b[39;00m \u001b[38;5;21m__init__\u001b[39m(\u001b[38;5;28mself\u001b[39m, endog, exog\u001b[38;5;241m=\u001b[39m\u001b[38;5;28;01mNone\u001b[39;00m, \u001b[38;5;241m*\u001b[39m\u001b[38;5;241m*\u001b[39mkwargs):\n\u001b[0;32m--> 270\u001b[0m     \u001b[38;5;28;43msuper\u001b[39;49m\u001b[43m(\u001b[49m\u001b[43m)\u001b[49m\u001b[38;5;241;43m.\u001b[39;49m\u001b[38;5;21;43m__init__\u001b[39;49m\u001b[43m(\u001b[49m\u001b[43mendog\u001b[49m\u001b[43m,\u001b[49m\u001b[43m \u001b[49m\u001b[43mexog\u001b[49m\u001b[43m,\u001b[49m\u001b[43m \u001b[49m\u001b[38;5;241;43m*\u001b[39;49m\u001b[38;5;241;43m*\u001b[39;49m\u001b[43mkwargs\u001b[49m\u001b[43m)\u001b[49m\n\u001b[1;32m    271\u001b[0m     \u001b[38;5;28mself\u001b[39m\u001b[38;5;241m.\u001b[39minitialize()\n",
      "File \u001b[0;32m~/.conda/envs/torch_2.0.1/lib/python3.8/site-packages/statsmodels/base/model.py:95\u001b[0m, in \u001b[0;36mModel.__init__\u001b[0;34m(self, endog, exog, **kwargs)\u001b[0m\n\u001b[1;32m     93\u001b[0m missing \u001b[38;5;241m=\u001b[39m kwargs\u001b[38;5;241m.\u001b[39mpop(\u001b[38;5;124m'\u001b[39m\u001b[38;5;124mmissing\u001b[39m\u001b[38;5;124m'\u001b[39m, \u001b[38;5;124m'\u001b[39m\u001b[38;5;124mnone\u001b[39m\u001b[38;5;124m'\u001b[39m)\n\u001b[1;32m     94\u001b[0m hasconst \u001b[38;5;241m=\u001b[39m kwargs\u001b[38;5;241m.\u001b[39mpop(\u001b[38;5;124m'\u001b[39m\u001b[38;5;124mhasconst\u001b[39m\u001b[38;5;124m'\u001b[39m, \u001b[38;5;28;01mNone\u001b[39;00m)\n\u001b[0;32m---> 95\u001b[0m \u001b[38;5;28mself\u001b[39m\u001b[38;5;241m.\u001b[39mdata \u001b[38;5;241m=\u001b[39m \u001b[38;5;28;43mself\u001b[39;49m\u001b[38;5;241;43m.\u001b[39;49m\u001b[43m_handle_data\u001b[49m\u001b[43m(\u001b[49m\u001b[43mendog\u001b[49m\u001b[43m,\u001b[49m\u001b[43m \u001b[49m\u001b[43mexog\u001b[49m\u001b[43m,\u001b[49m\u001b[43m \u001b[49m\u001b[43mmissing\u001b[49m\u001b[43m,\u001b[49m\u001b[43m \u001b[49m\u001b[43mhasconst\u001b[49m\u001b[43m,\u001b[49m\n\u001b[1;32m     96\u001b[0m \u001b[43m                              \u001b[49m\u001b[38;5;241;43m*\u001b[39;49m\u001b[38;5;241;43m*\u001b[39;49m\u001b[43mkwargs\u001b[49m\u001b[43m)\u001b[49m\n\u001b[1;32m     97\u001b[0m \u001b[38;5;28mself\u001b[39m\u001b[38;5;241m.\u001b[39mk_constant \u001b[38;5;241m=\u001b[39m \u001b[38;5;28mself\u001b[39m\u001b[38;5;241m.\u001b[39mdata\u001b[38;5;241m.\u001b[39mk_constant\n\u001b[1;32m     98\u001b[0m \u001b[38;5;28mself\u001b[39m\u001b[38;5;241m.\u001b[39mexog \u001b[38;5;241m=\u001b[39m \u001b[38;5;28mself\u001b[39m\u001b[38;5;241m.\u001b[39mdata\u001b[38;5;241m.\u001b[39mexog\n",
      "File \u001b[0;32m~/.conda/envs/torch_2.0.1/lib/python3.8/site-packages/statsmodels/base/model.py:135\u001b[0m, in \u001b[0;36mModel._handle_data\u001b[0;34m(self, endog, exog, missing, hasconst, **kwargs)\u001b[0m\n\u001b[1;32m    134\u001b[0m \u001b[38;5;28;01mdef\u001b[39;00m \u001b[38;5;21m_handle_data\u001b[39m(\u001b[38;5;28mself\u001b[39m, endog, exog, missing, hasconst, \u001b[38;5;241m*\u001b[39m\u001b[38;5;241m*\u001b[39mkwargs):\n\u001b[0;32m--> 135\u001b[0m     data \u001b[38;5;241m=\u001b[39m \u001b[43mhandle_data\u001b[49m\u001b[43m(\u001b[49m\u001b[43mendog\u001b[49m\u001b[43m,\u001b[49m\u001b[43m \u001b[49m\u001b[43mexog\u001b[49m\u001b[43m,\u001b[49m\u001b[43m \u001b[49m\u001b[43mmissing\u001b[49m\u001b[43m,\u001b[49m\u001b[43m \u001b[49m\u001b[43mhasconst\u001b[49m\u001b[43m,\u001b[49m\u001b[43m \u001b[49m\u001b[38;5;241;43m*\u001b[39;49m\u001b[38;5;241;43m*\u001b[39;49m\u001b[43mkwargs\u001b[49m\u001b[43m)\u001b[49m\n\u001b[1;32m    136\u001b[0m     \u001b[38;5;66;03m# kwargs arrays could have changed, easier to just attach here\u001b[39;00m\n\u001b[1;32m    137\u001b[0m     \u001b[38;5;28;01mfor\u001b[39;00m key \u001b[38;5;129;01min\u001b[39;00m kwargs:\n",
      "File \u001b[0;32m~/.conda/envs/torch_2.0.1/lib/python3.8/site-packages/statsmodels/base/data.py:675\u001b[0m, in \u001b[0;36mhandle_data\u001b[0;34m(endog, exog, missing, hasconst, **kwargs)\u001b[0m\n\u001b[1;32m    672\u001b[0m     exog \u001b[38;5;241m=\u001b[39m np\u001b[38;5;241m.\u001b[39masarray(exog)\n\u001b[1;32m    674\u001b[0m klass \u001b[38;5;241m=\u001b[39m handle_data_class_factory(endog, exog)\n\u001b[0;32m--> 675\u001b[0m \u001b[38;5;28;01mreturn\u001b[39;00m \u001b[43mklass\u001b[49m\u001b[43m(\u001b[49m\u001b[43mendog\u001b[49m\u001b[43m,\u001b[49m\u001b[43m \u001b[49m\u001b[43mexog\u001b[49m\u001b[38;5;241;43m=\u001b[39;49m\u001b[43mexog\u001b[49m\u001b[43m,\u001b[49m\u001b[43m \u001b[49m\u001b[43mmissing\u001b[49m\u001b[38;5;241;43m=\u001b[39;49m\u001b[43mmissing\u001b[49m\u001b[43m,\u001b[49m\u001b[43m \u001b[49m\u001b[43mhasconst\u001b[49m\u001b[38;5;241;43m=\u001b[39;49m\u001b[43mhasconst\u001b[49m\u001b[43m,\u001b[49m\n\u001b[1;32m    676\u001b[0m \u001b[43m             \u001b[49m\u001b[38;5;241;43m*\u001b[39;49m\u001b[38;5;241;43m*\u001b[39;49m\u001b[43mkwargs\u001b[49m\u001b[43m)\u001b[49m\n",
      "File \u001b[0;32m~/.conda/envs/torch_2.0.1/lib/python3.8/site-packages/statsmodels/base/data.py:84\u001b[0m, in \u001b[0;36mModelData.__init__\u001b[0;34m(self, endog, exog, missing, hasconst, **kwargs)\u001b[0m\n\u001b[1;32m     82\u001b[0m     \u001b[38;5;28mself\u001b[39m\u001b[38;5;241m.\u001b[39morig_endog \u001b[38;5;241m=\u001b[39m endog\n\u001b[1;32m     83\u001b[0m     \u001b[38;5;28mself\u001b[39m\u001b[38;5;241m.\u001b[39morig_exog \u001b[38;5;241m=\u001b[39m exog\n\u001b[0;32m---> 84\u001b[0m     \u001b[38;5;28mself\u001b[39m\u001b[38;5;241m.\u001b[39mendog, \u001b[38;5;28mself\u001b[39m\u001b[38;5;241m.\u001b[39mexog \u001b[38;5;241m=\u001b[39m \u001b[38;5;28;43mself\u001b[39;49m\u001b[38;5;241;43m.\u001b[39;49m\u001b[43m_convert_endog_exog\u001b[49m\u001b[43m(\u001b[49m\u001b[43mendog\u001b[49m\u001b[43m,\u001b[49m\u001b[43m \u001b[49m\u001b[43mexog\u001b[49m\u001b[43m)\u001b[49m\n\u001b[1;32m     86\u001b[0m \u001b[38;5;28mself\u001b[39m\u001b[38;5;241m.\u001b[39mconst_idx \u001b[38;5;241m=\u001b[39m \u001b[38;5;28;01mNone\u001b[39;00m\n\u001b[1;32m     87\u001b[0m \u001b[38;5;28mself\u001b[39m\u001b[38;5;241m.\u001b[39mk_constant \u001b[38;5;241m=\u001b[39m \u001b[38;5;241m0\u001b[39m\n",
      "File \u001b[0;32m~/.conda/envs/torch_2.0.1/lib/python3.8/site-packages/statsmodels/base/data.py:509\u001b[0m, in \u001b[0;36mPandasData._convert_endog_exog\u001b[0;34m(self, endog, exog)\u001b[0m\n\u001b[1;32m    507\u001b[0m exog \u001b[38;5;241m=\u001b[39m exog \u001b[38;5;28;01mif\u001b[39;00m exog \u001b[38;5;129;01mis\u001b[39;00m \u001b[38;5;28;01mNone\u001b[39;00m \u001b[38;5;28;01melse\u001b[39;00m np\u001b[38;5;241m.\u001b[39masarray(exog)\n\u001b[1;32m    508\u001b[0m \u001b[38;5;28;01mif\u001b[39;00m endog\u001b[38;5;241m.\u001b[39mdtype \u001b[38;5;241m==\u001b[39m \u001b[38;5;28mobject\u001b[39m \u001b[38;5;129;01mor\u001b[39;00m exog \u001b[38;5;129;01mis\u001b[39;00m \u001b[38;5;129;01mnot\u001b[39;00m \u001b[38;5;28;01mNone\u001b[39;00m \u001b[38;5;129;01mand\u001b[39;00m exog\u001b[38;5;241m.\u001b[39mdtype \u001b[38;5;241m==\u001b[39m \u001b[38;5;28mobject\u001b[39m:\n\u001b[0;32m--> 509\u001b[0m     \u001b[38;5;28;01mraise\u001b[39;00m \u001b[38;5;167;01mValueError\u001b[39;00m(\u001b[38;5;124m\"\u001b[39m\u001b[38;5;124mPandas data cast to numpy dtype of object. \u001b[39m\u001b[38;5;124m\"\u001b[39m\n\u001b[1;32m    510\u001b[0m                      \u001b[38;5;124m\"\u001b[39m\u001b[38;5;124mCheck input data with np.asarray(data).\u001b[39m\u001b[38;5;124m\"\u001b[39m)\n\u001b[1;32m    511\u001b[0m \u001b[38;5;28;01mreturn\u001b[39;00m \u001b[38;5;28msuper\u001b[39m(PandasData, \u001b[38;5;28mself\u001b[39m)\u001b[38;5;241m.\u001b[39m_convert_endog_exog(endog, exog)\n",
      "\u001b[0;31mValueError\u001b[0m: Pandas data cast to numpy dtype of object. Check input data with np.asarray(data)."
     ]
    }
   ],
   "source": [
    "#logit_model = sm.Logit(y, X)\n",
    "#result = logit_model.fit()\n",
    "x_dummy = sm.add_constant(x_dummy)\n",
    "logit_model = sm.Logit(y, x_dummy)\n",
    "result = logit_model.fit()\n",
    "\n",
    "print(\"Adjusted R^2:\", result.rsquared_adj)\n"
   ]
  },
  {
   "cell_type": "code",
   "execution_count": null,
   "id": "75ddc32e-c865-4c4d-96f2-773a525930d5",
   "metadata": {},
   "outputs": [],
   "source": []
  }
 ],
 "metadata": {
  "kernelspec": {
   "display_name": "torch_2.0.1",
   "language": "python",
   "name": "torch_2.0.1"
  },
  "language_info": {
   "codemirror_mode": {
    "name": "ipython",
    "version": 3
   },
   "file_extension": ".py",
   "mimetype": "text/x-python",
   "name": "python",
   "nbconvert_exporter": "python",
   "pygments_lexer": "ipython3",
   "version": "3.8.17"
  }
 },
 "nbformat": 4,
 "nbformat_minor": 5
}
